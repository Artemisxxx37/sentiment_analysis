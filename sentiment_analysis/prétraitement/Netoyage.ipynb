{
 "cells": [
  {
   "cell_type": "code",
   "execution_count": 1,
   "id": "f068d037-4867-45d7-baa3-b8dc8e298682",
   "metadata": {},
   "outputs": [],
   "source": [
    "import pandas as pd\n",
    "import re\n",
    "import string\n",
    "import spacy\n",
    "from spacy.lang.fr.stop_words import STOP_WORDS as fr_stop_words\n",
    "import nltk\n",
    "from nltk.corpus import stopwords\n",
    "from nltk.stem import SnowballStemmer\n",
    "import emoji\n",
    "from collections import Counter\n",
    "import matplotlib.pyplot as plt\n",
    "from langdetect import detect, DetectorFactory\n",
    "from langdetect.lang_detect_exception import LangDetectException\n"
   ]
  },
  {
   "cell_type": "code",
   "execution_count": 2,
   "id": "97025f43-02c0-4ff7-a4f1-f162ecdb3f45",
   "metadata": {},
   "outputs": [
    {
     "name": "stdout",
     "output_type": "stream",
     "text": [
      "Traceback (most recent call last):\n",
      "  File \u001b[35m\"/usr/lib/python3/dist-packages/urllib3/connection.py\"\u001b[0m, line \u001b[35m198\u001b[0m, in \u001b[35m_new_conn\u001b[0m\n",
      "    sock = connection.create_connection(\n",
      "        (self._dns_host, self.port),\n",
      "    ...<2 lines>...\n",
      "        socket_options=self.socket_options,\n",
      "    )\n",
      "  File \u001b[35m\"/usr/lib/python3/dist-packages/urllib3/util/connection.py\"\u001b[0m, line \u001b[35m60\u001b[0m, in \u001b[35mcreate_connection\u001b[0m\n",
      "    for res in \u001b[31msocket.getaddrinfo\u001b[0m\u001b[1;31m(host, port, family, socket.SOCK_STREAM)\u001b[0m:\n",
      "               \u001b[31m~~~~~~~~~~~~~~~~~~\u001b[0m\u001b[1;31m^^^^^^^^^^^^^^^^^^^^^^^^^^^^^^^^^^^^^^^^\u001b[0m\n",
      "  File \u001b[35m\"/usr/lib/python3.13/socket.py\"\u001b[0m, line \u001b[35m977\u001b[0m, in \u001b[35mgetaddrinfo\u001b[0m\n",
      "    for res in \u001b[31m_socket.getaddrinfo\u001b[0m\u001b[1;31m(host, port, family, type, proto, flags)\u001b[0m:\n",
      "               \u001b[31m~~~~~~~~~~~~~~~~~~~\u001b[0m\u001b[1;31m^^^^^^^^^^^^^^^^^^^^^^^^^^^^^^^^^^^^^^^^\u001b[0m\n",
      "\u001b[1;35msocket.gaierror\u001b[0m: \u001b[35m[Errno -3] Temporary failure in name resolution\u001b[0m\n",
      "\n",
      "The above exception was the direct cause of the following exception:\n",
      "\n",
      "Traceback (most recent call last):\n",
      "  File \u001b[35m\"/usr/lib/python3/dist-packages/urllib3/connectionpool.py\"\u001b[0m, line \u001b[35m787\u001b[0m, in \u001b[35murlopen\u001b[0m\n",
      "    response = self._make_request(\n",
      "        conn,\n",
      "    ...<10 lines>...\n",
      "        **response_kw,\n",
      "    )\n",
      "  File \u001b[35m\"/usr/lib/python3/dist-packages/urllib3/connectionpool.py\"\u001b[0m, line \u001b[35m488\u001b[0m, in \u001b[35m_make_request\u001b[0m\n",
      "    raise new_e\n",
      "  File \u001b[35m\"/usr/lib/python3/dist-packages/urllib3/connectionpool.py\"\u001b[0m, line \u001b[35m464\u001b[0m, in \u001b[35m_make_request\u001b[0m\n",
      "    \u001b[31mself._validate_conn\u001b[0m\u001b[1;31m(conn)\u001b[0m\n",
      "    \u001b[31m~~~~~~~~~~~~~~~~~~~\u001b[0m\u001b[1;31m^^^^^^\u001b[0m\n",
      "  File \u001b[35m\"/usr/lib/python3/dist-packages/urllib3/connectionpool.py\"\u001b[0m, line \u001b[35m1093\u001b[0m, in \u001b[35m_validate_conn\u001b[0m\n",
      "    \u001b[31mconn.connect\u001b[0m\u001b[1;31m()\u001b[0m\n",
      "    \u001b[31m~~~~~~~~~~~~\u001b[0m\u001b[1;31m^^\u001b[0m\n",
      "  File \u001b[35m\"/usr/lib/python3/dist-packages/urllib3/connection.py\"\u001b[0m, line \u001b[35m753\u001b[0m, in \u001b[35mconnect\u001b[0m\n",
      "    self.sock = sock = \u001b[31mself._new_conn\u001b[0m\u001b[1;31m()\u001b[0m\n",
      "                       \u001b[31m~~~~~~~~~~~~~~\u001b[0m\u001b[1;31m^^\u001b[0m\n",
      "  File \u001b[35m\"/usr/lib/python3/dist-packages/urllib3/connection.py\"\u001b[0m, line \u001b[35m205\u001b[0m, in \u001b[35m_new_conn\u001b[0m\n",
      "    raise NameResolutionError(self.host, self, e) from e\n",
      "\u001b[1;35murllib3.exceptions.NameResolutionError\u001b[0m: \u001b[35m<urllib3.connection.HTTPSConnection object at 0x7f66da2363c0>: Failed to resolve 'raw.githubusercontent.com' ([Errno -3] Temporary failure in name resolution)\u001b[0m\n",
      "\n",
      "The above exception was the direct cause of the following exception:\n",
      "\n",
      "Traceback (most recent call last):\n",
      "  File \u001b[35m\"/usr/lib/python3/dist-packages/requests/adapters.py\"\u001b[0m, line \u001b[35m644\u001b[0m, in \u001b[35msend\u001b[0m\n",
      "    resp = conn.urlopen(\n",
      "        method=request.method,\n",
      "    ...<9 lines>...\n",
      "        chunked=chunked,\n",
      "    )\n",
      "  File \u001b[35m\"/usr/lib/python3/dist-packages/urllib3/connectionpool.py\"\u001b[0m, line \u001b[35m841\u001b[0m, in \u001b[35murlopen\u001b[0m\n",
      "    retries = retries.increment(\n",
      "        method, url, error=new_e, _pool=self, _stacktrace=sys.exc_info()[2]\n",
      "    )\n",
      "  File \u001b[35m\"/usr/lib/python3/dist-packages/urllib3/util/retry.py\"\u001b[0m, line \u001b[35m519\u001b[0m, in \u001b[35mincrement\u001b[0m\n",
      "    \u001b[1;31mraise MaxRetryError(_pool, url, reason) from reason\u001b[0m  # type: ignore[arg-type]\n",
      "    \u001b[1;31m^^^^^^^^^^^^^^^^^^^^^^^^^^^^^^^^^^^^^^^^^^^^^^^^^^^\u001b[0m\n",
      "\u001b[1;35murllib3.exceptions.MaxRetryError\u001b[0m: \u001b[35mHTTPSConnectionPool(host='raw.githubusercontent.com', port=443): Max retries exceeded with url: /explosion/spacy-models/master/compatibility.json (Caused by NameResolutionError(\"<urllib3.connection.HTTPSConnection object at 0x7f66da2363c0>: Failed to resolve 'raw.githubusercontent.com' ([Errno -3] Temporary failure in name resolution)\"))\u001b[0m\n",
      "\n",
      "During handling of the above exception, another exception occurred:\n",
      "\n",
      "Traceback (most recent call last):\n",
      "  File \u001b[35m\"<frozen runpy>\"\u001b[0m, line \u001b[35m198\u001b[0m, in \u001b[35m_run_module_as_main\u001b[0m\n",
      "  File \u001b[35m\"<frozen runpy>\"\u001b[0m, line \u001b[35m88\u001b[0m, in \u001b[35m_run_code\u001b[0m\n",
      "  File \u001b[35m\"/home/artemis37/.local/lib/python3.13/site-packages/spacy/__main__.py\"\u001b[0m, line \u001b[35m4\u001b[0m, in \u001b[35m<module>\u001b[0m\n",
      "    \u001b[31msetup_cli\u001b[0m\u001b[1;31m()\u001b[0m\n",
      "    \u001b[31m~~~~~~~~~\u001b[0m\u001b[1;31m^^\u001b[0m\n",
      "  File \u001b[35m\"/home/artemis37/.local/lib/python3.13/site-packages/spacy/cli/_util.py\"\u001b[0m, line \u001b[35m87\u001b[0m, in \u001b[35msetup_cli\u001b[0m\n",
      "    \u001b[31mcommand\u001b[0m\u001b[1;31m(prog_name=COMMAND)\u001b[0m\n",
      "    \u001b[31m~~~~~~~\u001b[0m\u001b[1;31m^^^^^^^^^^^^^^^^^^^\u001b[0m\n",
      "  File \u001b[35m\"/usr/lib/python3/dist-packages/click/core.py\"\u001b[0m, line \u001b[35m1161\u001b[0m, in \u001b[35m__call__\u001b[0m\n",
      "    return \u001b[31mself.main\u001b[0m\u001b[1;31m(*args, **kwargs)\u001b[0m\n",
      "           \u001b[31m~~~~~~~~~\u001b[0m\u001b[1;31m^^^^^^^^^^^^^^^^^\u001b[0m\n",
      "  File \u001b[35m\"/home/artemis37/.local/lib/python3.13/site-packages/typer/core.py\"\u001b[0m, line \u001b[35m784\u001b[0m, in \u001b[35mmain\u001b[0m\n",
      "    return _main(\n",
      "        self,\n",
      "    ...<6 lines>...\n",
      "        **extra,\n",
      "    )\n",
      "  File \u001b[35m\"/home/artemis37/.local/lib/python3.13/site-packages/typer/core.py\"\u001b[0m, line \u001b[35m192\u001b[0m, in \u001b[35m_main\u001b[0m\n",
      "    rv = self.invoke(ctx)\n",
      "  File \u001b[35m\"/usr/lib/python3/dist-packages/click/core.py\"\u001b[0m, line \u001b[35m1697\u001b[0m, in \u001b[35minvoke\u001b[0m\n",
      "    return _process_result(\u001b[31msub_ctx.command.invoke\u001b[0m\u001b[1;31m(sub_ctx)\u001b[0m)\n",
      "                           \u001b[31m~~~~~~~~~~~~~~~~~~~~~~\u001b[0m\u001b[1;31m^^^^^^^^^\u001b[0m\n",
      "  File \u001b[35m\"/usr/lib/python3/dist-packages/click/core.py\"\u001b[0m, line \u001b[35m1443\u001b[0m, in \u001b[35minvoke\u001b[0m\n",
      "    return \u001b[31mctx.invoke\u001b[0m\u001b[1;31m(self.callback, **ctx.params)\u001b[0m\n",
      "           \u001b[31m~~~~~~~~~~\u001b[0m\u001b[1;31m^^^^^^^^^^^^^^^^^^^^^^^^^^^^^\u001b[0m\n",
      "  File \u001b[35m\"/usr/lib/python3/dist-packages/click/core.py\"\u001b[0m, line \u001b[35m788\u001b[0m, in \u001b[35minvoke\u001b[0m\n",
      "    return __callback(*args, **kwargs)\n",
      "  File \u001b[35m\"/home/artemis37/.local/lib/python3.13/site-packages/typer/main.py\"\u001b[0m, line \u001b[35m685\u001b[0m, in \u001b[35mwrapper\u001b[0m\n",
      "    return callback(**use_params)\n",
      "  File \u001b[35m\"/home/artemis37/.local/lib/python3.13/site-packages/spacy/cli/download.py\"\u001b[0m, line \u001b[35m44\u001b[0m, in \u001b[35mdownload_cli\u001b[0m\n",
      "    \u001b[31mdownload\u001b[0m\u001b[1;31m(model, direct, sdist, *ctx.args)\u001b[0m\n",
      "    \u001b[31m~~~~~~~~\u001b[0m\u001b[1;31m^^^^^^^^^^^^^^^^^^^^^^^^^^^^^^^^^\u001b[0m\n",
      "  File \u001b[35m\"/home/artemis37/.local/lib/python3.13/site-packages/spacy/cli/download.py\"\u001b[0m, line \u001b[35m85\u001b[0m, in \u001b[35mdownload\u001b[0m\n",
      "    compatibility = get_compatibility()\n",
      "  File \u001b[35m\"/home/artemis37/.local/lib/python3.13/site-packages/spacy/cli/download.py\"\u001b[0m, line \u001b[35m130\u001b[0m, in \u001b[35mget_compatibility\u001b[0m\n",
      "    r = requests.get(about.__compatibility__)\n",
      "  File \u001b[35m\"/usr/lib/python3/dist-packages/requests/api.py\"\u001b[0m, line \u001b[35m73\u001b[0m, in \u001b[35mget\u001b[0m\n",
      "    return request(\"get\", url, params=params, **kwargs)\n",
      "  File \u001b[35m\"/usr/lib/python3/dist-packages/requests/api.py\"\u001b[0m, line \u001b[35m59\u001b[0m, in \u001b[35mrequest\u001b[0m\n",
      "    return \u001b[31msession.request\u001b[0m\u001b[1;31m(method=method, url=url, **kwargs)\u001b[0m\n",
      "           \u001b[31m~~~~~~~~~~~~~~~\u001b[0m\u001b[1;31m^^^^^^^^^^^^^^^^^^^^^^^^^^^^^^^^^^\u001b[0m\n",
      "  File \u001b[35m\"/usr/lib/python3/dist-packages/requests/sessions.py\"\u001b[0m, line \u001b[35m589\u001b[0m, in \u001b[35mrequest\u001b[0m\n",
      "    resp = self.send(prep, **send_kwargs)\n",
      "  File \u001b[35m\"/usr/lib/python3/dist-packages/requests/sessions.py\"\u001b[0m, line \u001b[35m703\u001b[0m, in \u001b[35msend\u001b[0m\n",
      "    r = adapter.send(request, **kwargs)\n",
      "  File \u001b[35m\"/usr/lib/python3/dist-packages/requests/adapters.py\"\u001b[0m, line \u001b[35m677\u001b[0m, in \u001b[35msend\u001b[0m\n",
      "    raise ConnectionError(e, request=request)\n",
      "\u001b[1;35mrequests.exceptions.ConnectionError\u001b[0m: \u001b[35mHTTPSConnectionPool(host='raw.githubusercontent.com', port=443): Max retries exceeded with url: /explosion/spacy-models/master/compatibility.json (Caused by NameResolutionError(\"<urllib3.connection.HTTPSConnection object at 0x7f66da2363c0>: Failed to resolve 'raw.githubusercontent.com' ([Errno -3] Temporary failure in name resolution)\"))\u001b[0m\n",
      "Defaulting to user installation because normal site-packages is not writeable\n",
      "Requirement already satisfied: langdetect in /home/artemis37/.local/lib/python3.13/site-packages (1.0.9)\n",
      "Requirement already satisfied: six in /usr/lib/python3/dist-packages (from langdetect) (1.17.0)\n",
      "\u001b[1;31merror\u001b[0m: \u001b[1mexternally-managed-environment\u001b[0m\n",
      "\n",
      "\u001b[31m×\u001b[0m This environment is externally managed\n",
      "\u001b[31m╰─>\u001b[0m To install Python packages system-wide, try apt install\n",
      "\u001b[31m   \u001b[0m python3-xyz, where xyz is the package you are trying to\n",
      "\u001b[31m   \u001b[0m install.\n",
      "\u001b[31m   \u001b[0m \n",
      "\u001b[31m   \u001b[0m If you wish to install a non-Kali-packaged Python package,\n",
      "\u001b[31m   \u001b[0m create a virtual environment using python3 -m venv path/to/venv.\n",
      "\u001b[31m   \u001b[0m Then use path/to/venv/bin/python and path/to/venv/bin/pip. Make\n",
      "\u001b[31m   \u001b[0m sure you have pypy3-venv installed.\n",
      "\u001b[31m   \u001b[0m \n",
      "\u001b[31m   \u001b[0m If you wish to install a non-Kali-packaged Python application,\n",
      "\u001b[31m   \u001b[0m it may be easiest to use pipx install xyz, which will manage a\n",
      "\u001b[31m   \u001b[0m virtual environment for you. Make sure you have pipx installed.\n",
      "\u001b[31m   \u001b[0m \n",
      "\u001b[31m   \u001b[0m For more information, refer to the following:\n",
      "\u001b[31m   \u001b[0m * https://www.kali.org/docs/general-use/python3-external-packages/\n",
      "\u001b[31m   \u001b[0m * /usr/share/doc/python3.13/README.venv\n",
      "\n",
      "\u001b[1;35mnote\u001b[0m: If you believe this is a mistake, please contact your Python installation or OS distribution provider. You can override this, at the risk of breaking your Python installation or OS, by passing --break-system-packages.\n",
      "\u001b[1;36mhint\u001b[0m: See PEP 668 for the detailed specification.\n"
     ]
    }
   ],
   "source": [
    "!python -m spacy download fr_core_news_sm --break-system-packages\n",
    "!pip install langdetect --break-system-packages\n",
    "!pip install spacy nltk emoji"
   ]
  },
  {
   "cell_type": "code",
   "execution_count": 3,
   "id": "2e203026-bebc-4c85-b293-fa85bbe8828f",
   "metadata": {},
   "outputs": [
    {
     "name": "stderr",
     "output_type": "stream",
     "text": [
      "[nltk_data] Error loading stopwords: <urlopen error [Errno -3]\n",
      "[nltk_data]     Temporary failure in name resolution>\n",
      "[nltk_data] Error loading punkt: <urlopen error [Errno -3] Temporary\n",
      "[nltk_data]     failure in name resolution>\n"
     ]
    }
   ],
   "source": [
    "try:\n",
    "    nltk.download('stopwords', quiet=True)\n",
    "    nltk.download('punkt', quiet=True)\n",
    "except:\n",
    "    print(\"Ressources NLTK déjà téléchargées\")"
   ]
  },
  {
   "cell_type": "code",
   "execution_count": 4,
   "id": "d7e12c31-01ae-4577-9a0f-3edf45e8d943",
   "metadata": {},
   "outputs": [],
   "source": [
    "#charger le dataset et regarder un peu comment il se presente"
   ]
  },
  {
   "cell_type": "code",
   "execution_count": 5,
   "id": "e0aa41bb-c853-477f-a6f3-afa5cf084f58",
   "metadata": {},
   "outputs": [
    {
     "name": "stdout",
     "output_type": "stream",
     "text": [
      "    Author                                              Tweet Date Link  \\\n",
      "0      NaN                                                NaN  NaN  NaN   \n",
      "1  anonyme  Les cours sont intéressants mais parfois diffi...  NaN  NaN   \n",
      "2  anonyme  Oui je pense que il ya des failles ! La connex...  NaN  NaN   \n",
      "3  anonyme  L'université virtuelle du Burkina Faso, est un...  NaN  NaN   \n",
      "4  anonyme                      Rien à dire! J'adore le UV-BF  NaN  NaN   \n",
      "\n",
      "  Images  Retweets  Replies  Likes  Unnamed: 3 Unnamed: 4 langue  \n",
      "0    NaN       NaN      NaN    NaN         NaN        NaN    NaN  \n",
      "1    NaN       NaN      NaN    NaN         NaN        NaN    NaN  \n",
      "2    NaN       NaN      NaN    NaN         NaN        NaN    NaN  \n",
      "3    NaN       NaN      NaN    NaN         NaN        NaN    NaN  \n",
      "4    NaN       NaN      NaN    NaN         NaN        NaN    NaN   <bound method DataFrame.info of          Author                                              Tweet  \\\n",
      "0           NaN                                                NaN   \n",
      "1       anonyme  Les cours sont intéressants mais parfois diffi...   \n",
      "2       anonyme  Oui je pense que il ya des failles ! La connex...   \n",
      "3       anonyme  L'université virtuelle du Burkina Faso, est un...   \n",
      "4       anonyme                      Rien à dire! J'adore le UV-BF   \n",
      "...         ...                                                ...   \n",
      "1577  hanage717                                               いつ暇？   \n",
      "1578  hanage717                             がちか！今空いてるの三月ないんだよね！ははは   \n",
      "1579  hanage717                                       なんだよそれでもいこーぜ   \n",
      "1580  hanage717                                           今車合宿なうです   \n",
      "1581  hanage717                                              海いいなー   \n",
      "\n",
      "            Date                                               Link  \\\n",
      "0            NaN                                                NaN   \n",
      "1            NaN                                                NaN   \n",
      "2            NaN                                                NaN   \n",
      "3            NaN                                                NaN   \n",
      "4            NaN                                                NaN   \n",
      "...          ...                                                ...   \n",
      "1577  2017-03-26  https://x.com/hanage717/status/845830137060851712   \n",
      "1578  2017-03-19  https://x.com/hanage717/status/843395764554407942   \n",
      "1579  2017-03-19  https://x.com/hanage717/status/843394556745809920   \n",
      "1580  2017-03-19  https://x.com/hanage717/status/843382024308051969   \n",
      "1581  2017-03-03  https://x.com/hanage717/status/837504333289644032   \n",
      "\n",
      "         Images  Retweets  Replies  Likes  Unnamed: 3 Unnamed: 4 langue  \n",
      "0           NaN       NaN      NaN    NaN         NaN        NaN    NaN  \n",
      "1           NaN       NaN      NaN    NaN         NaN        NaN    NaN  \n",
      "2           NaN       NaN      NaN    NaN         NaN        NaN    NaN  \n",
      "3           NaN       NaN      NaN    NaN         NaN        NaN    NaN  \n",
      "4           NaN       NaN      NaN    NaN         NaN        NaN    NaN  \n",
      "...         ...       ...      ...    ...         ...        ...    ...  \n",
      "1577  No Images       0.0      0.0    0.0         NaN        NaN    NaN  \n",
      "1578  No Images       0.0      0.0    0.0         NaN        NaN    NaN  \n",
      "1579  No Images       0.0      0.0    0.0         NaN        NaN    NaN  \n",
      "1580  No Images       0.0      0.0    0.0         NaN        NaN    NaN  \n",
      "1581  No Images       0.0      0.0    0.0         NaN        NaN    NaN  \n",
      "\n",
      "[1582 rows x 11 columns]>\n"
     ]
    }
   ],
   "source": [
    "data = pd.read_csv(\"uvb_all.csv\")\n",
    "print(data.head() , data.info)"
   ]
  },
  {
   "cell_type": "code",
   "execution_count": 6,
   "id": "812eaa40-38c3-4361-946d-c8309a1826ad",
   "metadata": {},
   "outputs": [],
   "source": [
    "#checkons les champs vides"
   ]
  },
  {
   "cell_type": "code",
   "execution_count": 7,
   "id": "f0edac61-dc4e-47d2-aa5b-590b388ef7a9",
   "metadata": {},
   "outputs": [
    {
     "name": "stdout",
     "output_type": "stream",
     "text": [
      "Author           1\n",
      "Tweet            5\n",
      "Date           323\n",
      "Link           735\n",
      "Images         735\n",
      "Retweets       643\n",
      "Replies        643\n",
      "Likes          643\n",
      "Unnamed: 3    1582\n",
      "Unnamed: 4    1581\n",
      "langue        1237\n",
      "dtype: int64\n"
     ]
    }
   ],
   "source": [
    "print(data.isnull().sum())"
   ]
  },
  {
   "cell_type": "code",
   "execution_count": 8,
   "id": "0a13e63d-20d9-421d-8e22-43f4c47ec976",
   "metadata": {},
   "outputs": [],
   "source": [
    "#let's get started with managing date format"
   ]
  },
  {
   "cell_type": "code",
   "execution_count": 9,
   "id": "af7cf2c7-bf24-4a6f-ade2-8472048c9fa9",
   "metadata": {},
   "outputs": [
    {
     "name": "stdout",
     "output_type": "stream",
     "text": [
      "Index(['Author', 'Tweet', 'Date', 'Link', 'Images', 'Retweets', 'Replies',\n",
      "       'Likes', 'Unnamed: 3', 'Unnamed: 4', 'langue'],\n",
      "      dtype='object')\n"
     ]
    }
   ],
   "source": [
    "data.dtypes\n",
    "print(data.columns)"
   ]
  },
  {
   "cell_type": "code",
   "execution_count": 10,
   "id": "f7c8fd21-6729-4894-aace-b091d427c2cf",
   "metadata": {},
   "outputs": [],
   "source": [
    "#filter tweets for fr language\n",
    "DetectorFactory.seed = 0\n",
    "def detect_lang(text):\n",
    "    try:\n",
    "        return detect(str(text))\n",
    "    except:\n",
    "        return 'unknown'\n",
    "\n",
    "data['langue'] = data['Tweet'].apply(detect_lang)\n"
   ]
  },
  {
   "cell_type": "code",
   "execution_count": 11,
   "id": "1c6e87d5-524a-4819-9f0f-881d0b13dab8",
   "metadata": {},
   "outputs": [],
   "source": [
    "# Filtrer uniquement les tweets en français\n",
    "data_fr = data[data['langue'] == 'fr'].copy()\n",
    "data_fr.to_csv(\"data_francais.csv\", index=False)\n",
    "new_data = pd.read_csv(\"data_francais.csv\")"
   ]
  },
  {
   "cell_type": "code",
   "execution_count": 12,
   "id": "9b9cecc5-4201-4d7f-8df2-4fd478553d92",
   "metadata": {},
   "outputs": [
    {
     "name": "stdout",
     "output_type": "stream",
     "text": [
      "<bound method DataFrame.info of              Author                                              Tweet  \\\n",
      "0           anonyme  Les cours sont intéressants mais parfois diffi...   \n",
      "1           anonyme  Oui je pense que il ya des failles ! La connex...   \n",
      "2           anonyme  L'université virtuelle du Burkina Faso, est un...   \n",
      "3           anonyme                      Rien à dire! J'adore le UV-BF   \n",
      "4           anonyme  Formidable !  J'apprécie beaucoup ! Il n'y a p...   \n",
      "..              ...                                                ...   \n",
      "895         MIANSEH  #civedu Séance de travail à \\n@uvciv\\n avec un...   \n",
      "896       konefode8  À tour de rôle, ça sent l'innovation de part e...   \n",
      "897         MIANSEH  #civedu Après \\n@UVT_tunisie\\n, @UVS_Senegal e...   \n",
      "898       AUF_AsieP  Les rencontres #IDNEUF4 : Le Pr Jean-Marie Dip...   \n",
      "899  steevedecharme  Enseignement supérieur : Bientôt une universit...   \n",
      "\n",
      "           Date                                               Link  \\\n",
      "0           NaN                                                NaN   \n",
      "1           NaN                                                NaN   \n",
      "2           NaN                                                NaN   \n",
      "3           NaN                                                NaN   \n",
      "4           NaN                                                NaN   \n",
      "..          ...                                                ...   \n",
      "895  2019-09-23   https://x.com/MIANSEH/status/1176092387753545728   \n",
      "896  2019-07-27  https://x.com/konefode8/status/115491801703955...   \n",
      "897  2019-07-26   https://x.com/MIANSEH/status/1154791897023598595   \n",
      "898  2019-06-12  https://x.com/AUF_AsieP/status/113865550075140...   \n",
      "899  2018-05-11  https://x.com/steevedecharme/status/9948438026...   \n",
      "\n",
      "                                                Images  Retweets  Replies  \\\n",
      "0                                                  NaN       NaN      NaN   \n",
      "1                                                  NaN       NaN      NaN   \n",
      "2                                                  NaN       NaN      NaN   \n",
      "3                                                  NaN       NaN      NaN   \n",
      "4                                                  NaN       NaN      NaN   \n",
      "..                                                 ...       ...      ...   \n",
      "895  https://pbs.twimg.com/media/EFJRxSuXUAIXg-M?fo...       0.0      0.0   \n",
      "896                                          No Images       0.0      0.0   \n",
      "897  https://pbs.twimg.com/media/EAalGuPXYAAUkHx?fo...       0.0      0.0   \n",
      "898                                          No Images       0.0      0.0   \n",
      "899                                          No Images       0.0      0.0   \n",
      "\n",
      "     Likes  Unnamed: 3 Unnamed: 4 langue  \n",
      "0      NaN         NaN        NaN     fr  \n",
      "1      NaN         NaN        NaN     fr  \n",
      "2      NaN         NaN        NaN     fr  \n",
      "3      NaN         NaN        NaN     fr  \n",
      "4      NaN         NaN        NaN     fr  \n",
      "..     ...         ...        ...    ...  \n",
      "895    0.0         NaN        NaN     fr  \n",
      "896    0.0         NaN        NaN     fr  \n",
      "897    0.0         NaN        NaN     fr  \n",
      "898    0.0         NaN        NaN     fr  \n",
      "899    0.0         NaN        NaN     fr  \n",
      "\n",
      "[900 rows x 11 columns]>\n",
      "Author          0\n",
      "Tweet           0\n",
      "Date          322\n",
      "Link          716\n",
      "Images        716\n",
      "Retweets      624\n",
      "Replies       624\n",
      "Likes         624\n",
      "Unnamed: 3    900\n",
      "Unnamed: 4    899\n",
      "langue          0\n",
      "dtype: int64\n"
     ]
    }
   ],
   "source": [
    "print(new_data.info)\n",
    "print(new_data.isnull().sum())\n"
   ]
  },
  {
   "cell_type": "code",
   "execution_count": 13,
   "id": "87d98748-799e-4812-9e18-0aca2c1871be",
   "metadata": {},
   "outputs": [
    {
     "name": "stdout",
     "output_type": "stream",
     "text": [
      "Index(['Author', 'Tweet', 'Date', 'Link', 'Images', 'Retweets', 'Replies',\n",
      "       'Likes', 'Unnamed: 3', 'Unnamed: 4', 'langue'],\n",
      "      dtype='object')\n",
      "New columns after removing :  Index(['Author', 'Tweet', 'Date'], dtype='object')\n"
     ]
    },
    {
     "data": {
      "text/plain": [
       "Author    object\n",
       "Tweet     object\n",
       "Date      object\n",
       "dtype: object"
      ]
     },
     "execution_count": 13,
     "metadata": {},
     "output_type": "execute_result"
    }
   ],
   "source": [
    "\n",
    "#cleaning the dataset\n",
    "\n",
    "#drop useless columns\n",
    "print(new_data.columns)\n",
    "new_data.drop(columns=['Link','Images','Retweets','Replies','Likes','langue','Unnamed: 3', 'Unnamed: 4'], inplace=True)\n",
    "\n",
    "\n",
    "#I decided right there to remove retweets, replies....;columns cause there are non valuables like 0 likes......and over half of the datas concerning them are missing\n",
    "#check the dataset now\n",
    "print(\"New columns after removing : \", new_data.columns)\n",
    "new_data.dtypes\n"
   ]
  },
  {
   "cell_type": "code",
   "execution_count": null,
   "id": "53664224-ce91-4981-a7e1-026c3bcc3027",
   "metadata": {},
   "outputs": [],
   "source": []
  },
  {
   "cell_type": "code",
   "execution_count": 14,
   "id": "af02aac6-45eb-445d-88ad-2675844a7011",
   "metadata": {},
   "outputs": [
    {
     "name": "stdout",
     "output_type": "stream",
     "text": [
      " Modèle spaCy français chargé\n"
     ]
    }
   ],
   "source": [
    "try:\n",
    "    nlp_fr = spacy.load(\"fr_core_news_sm\")\n",
    "    print(\" Modèle spaCy français chargé\")\n",
    "except OSError:\n",
    "    print(\" Modèle spaCy non trouvé. Exécutez: !python -m spacy download fr_core_news_sm\")\n",
    "    nlp_fr = None"
   ]
  },
  {
   "cell_type": "code",
   "execution_count": 15,
   "id": "5ff7dea1-9ae8-4630-885a-cfabb5079315",
   "metadata": {},
   "outputs": [],
   "source": [
    "class TweetPreprocessor:\n",
    "    def __init__(self):\n",
    "        # Stop words français + mots spécifiques aux réseaux sociaux\n",
    "        self.stop_words = fr_stop_words.copy()\n",
    "        custom_stop_words = {\n",
    "            'rt', 'via', 'amp', 'http', 'https', 'www', 'com', 'org', 'fr',\n",
    "            'like', 'follow', 'share', 'retweet', 'tweet', 'twitter', 'cc',\n",
    "            'alors', 'donc', 'tout', 'tous', 'toute', 'toutes', 'être', 'avoir',\n",
    "            'faire', 'dire', 'aller', 'voir', 'savoir', 'pouvoir', 'falloir',\n",
    "            'vouloir', 'venir', 'devoir', 'prendre', 'donner', 'mettre', 'partir'\n",
    "        }\n",
    "        self.stop_words.update(custom_stop_words)\n",
    "        \n",
    "        # Stemmer français\n",
    "        self.stemmer = SnowballStemmer('french')\n",
    "        \n",
    "        # spaCy pour lemmatisation\n",
    "        self.nlp = nlp_fr\n",
    "    \n",
    "    def clean_tweet(self, text):\n",
    "        \"\"\"Nettoyage spécifique aux tweets\"\"\"\n",
    "        if pd.isna(text):\n",
    "            return \"\"\n",
    "        \n",
    "        text = str(text)\n",
    "        \n",
    "        # Supprimer les retweets \"RT @user:\"\n",
    "        text = re.sub(r'^RT @\\w+:', '', text)\n",
    "        \n",
    "        # Supprimer les URLs\n",
    "        text = re.sub(r'http[s]?://(?:[a-zA-Z]|[0-9]|[$-_@.&+]|[!*\\\\(\\\\),]|(?:%[0-9a-fA-F][0-9a-fA-F]))+', '', text)\n",
    "        text = re.sub(r'www\\.(?:[a-zA-Z]|[0-9]|[$-_@.&+]|[!*\\\\(\\\\),]|(?:%[0-9a-fA-F][0-9a-fA-F]))+', '', text)\n",
    "        \n",
    "        # Supprimer les mentions @username\n",
    "        text = re.sub(r'@\\w+', '', text)\n",
    "        \n",
    "        # Transformer hashtags (garder le texte, supprimer #)\n",
    "        text = re.sub(r'#(\\w+)', r'\\1', text)\n",
    "        \n",
    "        # Supprimer les emojis\n",
    "        text = self.remove_emojis(text)\n",
    "        \n",
    "        # Minuscules\n",
    "        text = text.lower()\n",
    "        \n",
    "        # Supprimer ponctuation excessive\n",
    "        text = re.sub(r'[^\\w\\s]', ' ', text)\n",
    "        \n",
    "        # Supprimer chiffres isolés\n",
    "        text = re.sub(r'\\b\\d+\\b', '', text)\n",
    "        \n",
    "        # Nettoyer espaces multiples\n",
    "        text = re.sub(r'\\s+', ' ', text).strip()\n",
    "        \n",
    "        return text\n",
    "    \n",
    "    def remove_emojis(self, text):\n",
    "        \"\"\"Supprimer emojis\"\"\"\n",
    "        # Pattern pour emojis Unicode\n",
    "        emoji_pattern = re.compile(\"[\"\n",
    "                                 u\"\\U0001F600-\\U0001F64F\"  # emoticons\n",
    "                                 u\"\\U0001F300-\\U0001F5FF\"  # symbols & pictographs\n",
    "                                 u\"\\U0001F680-\\U0001F6FF\"  # transport & map symbols\n",
    "                                 u\"\\U0001F1E0-\\U0001F1FF\"  # flags\n",
    "                                 u\"\\U00002702-\\U000027B0\"\n",
    "                                 u\"\\U000024C2-\\U0001F251\"\n",
    "                                 \"]+\", flags=re.UNICODE)\n",
    "        return emoji_pattern.sub(r' ', text)\n",
    "    \n",
    "    def tokenize_and_lemmatize(self, text):\n",
    "        \"\"\"Tokenisation et lemmatisation avec spaCy\"\"\"\n",
    "        if not text or not text.strip():\n",
    "            return []\n",
    "        \n",
    "        if self.nlp:\n",
    "            doc = self.nlp(text)\n",
    "            tokens = []\n",
    "            for token in doc:\n",
    "                # Filtrer les tokens\n",
    "                if (not token.is_stop and \n",
    "                    not token.is_punct and \n",
    "                    not token.is_space and\n",
    "                    len(token.text) > 2 and\n",
    "                    token.lemma_.lower() not in self.stop_words and\n",
    "                    token.pos_ not in ['PRON', 'ADP', 'CCONJ', 'SCONJ', 'DET']):\n",
    "                    tokens.append(token.lemma_.lower())\n",
    "            return tokens\n",
    "        else:\n",
    "            # Fallback sans spaCy\n",
    "            tokens = text.split()\n",
    "            tokens = [t for t in tokens if len(t) > 2 and t not in self.stop_words]\n",
    "            return [self.stemmer.stem(token) for token in tokens]\n",
    "    \n",
    "    def preprocess_tweet(self, text):\n",
    "        \"\"\"Pipeline complet\"\"\"\n",
    "        cleaned = self.clean_tweet(text)\n",
    "        tokens = self.tokenize_and_lemmatize(cleaned)\n",
    "        return tokens, ' '.join(tokens)\n",
    "\n"
   ]
  },
  {
   "cell_type": "code",
   "execution_count": 16,
   "id": "a3758bb4-837e-40c2-99bf-8b144386a349",
   "metadata": {},
   "outputs": [],
   "source": [
    "df = pd.read_csv(\"data_cleaned.csv\")\n",
    "\n",
    "# Initialiser le preprocessor\n",
    "preprocessor = TweetPreprocessor()\n",
    "\n",
    "# Appliquer le preprocessing\n",
    "df['tweet_cleaned'] = df['Tweet'].apply(preprocessor.clean_tweet)\n",
    "tweets_processed = df['Tweet'].apply(preprocessor.preprocess_tweet)\n",
    "\n",
    "# Séparer tokens et texte final\n",
    "df['tokens'] = tweets_processed.apply(lambda x: x[0])\n",
    "df['text_final'] = tweets_processed.apply(lambda x: x[1])\n",
    "\n",
    "# Filtrer les tweets vides après preprocessing\n",
    "df_final = df[df['text_final'].str.len() > 0].copy()\n"
   ]
  },
  {
   "cell_type": "code",
   "execution_count": 17,
   "id": "fd1ba565-47a0-4d86-b249-44b6c1fc2db3",
   "metadata": {
    "scrolled": true
   },
   "outputs": [
    {
     "name": "stdout",
     "output_type": "stream",
     "text": [
      "Nombre moyen de tokens par tweet: 29.42\n",
      "Médiane: 19\n"
     ]
    },
    {
     "data": {
      "image/png": "[encoded data removed]",
      "text/plain": [
       "<Figure size 1200x400 with 2 Axes>"
      ]
     },
     "metadata": {},
     "output_type": "display_data"
    }
   ],
   "source": [
    "\n",
    "# Distribution longueur des tweets\n",
    "df_final['nb_tokens'] = df_final['tokens'].apply(len)\n",
    "print(f\"Nombre moyen de tokens par tweet: {df_final['nb_tokens'].mean():.2f}\")\n",
    "print(f\"Médiane: {df_final['nb_tokens'].median():.0f}\")\n",
    "\n",
    "# Visualisation\n",
    "plt.figure(figsize=(12, 4))\n",
    "\n",
    "plt.subplot(1, 2, 1)\n",
    "plt.hist(df_final['nb_tokens'], bins=30, alpha=0.7, color='skyblue')\n",
    "plt.title('Distribution du nombre de tokens')\n",
    "plt.xlabel('Nombre de tokens')\n",
    "plt.ylabel('Fréquence')\n",
    "\n",
    "# Top mots les plus fréquents\n",
    "all_tokens = [token for tokens in df_final['tokens'] for token in tokens]\n",
    "most_common = Counter(all_tokens).most_common(20)\n",
    "\n",
    "plt.subplot(1, 2, 2)\n",
    "words, counts = zip(*most_common[:15])\n",
    "plt.barh(range(len(words)), counts, color='lightcoral')\n",
    "plt.yticks(range(len(words)), words)\n",
    "plt.title('Top 15 des mots les plus fréquents')\n",
    "plt.xlabel('Fréquence')\n",
    "\n",
    "plt.tight_layout()\n",
    "plt.show()\n"
   ]
  },
  {
   "cell_type": "code",
   "execution_count": null,
   "id": "9e199019-a4e7-4274-93db-c889cbddab5c",
   "metadata": {},
   "outputs": [],
   "source": []
  }
 ],
 "metadata": {
  "kernelspec": {
   "display_name": "Python 3 (ipykernel)",
   "language": "python",
   "name": "python3"
  },
  "language_info": {
   "codemirror_mode": {
    "name": "ipython",
    "version": 3
   },
   "file_extension": ".py",
   "mimetype": "text/x-python",
   "name": "python",
   "nbconvert_exporter": "python",
   "pygments_lexer": "ipython3",
   "version": "3.13.7"
  }
 },
 "nbformat": 4,
 "nbformat_minor": 5
}
